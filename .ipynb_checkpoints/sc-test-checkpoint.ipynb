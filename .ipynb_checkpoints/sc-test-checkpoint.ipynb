{
 "cells": [
  {
   "cell_type": "code",
   "execution_count": 1,
   "metadata": {},
   "outputs": [],
   "source": [
    "import torch\n",
    "import torch.nn as nn\n",
    "import torch.nn.functional as F\n",
    "\n",
    "from torchvision import datasets\n",
    "from torchvision import transforms\n",
    "from torchvision.utils import save_image\n",
    "\n",
    "from IPython.core.display import Image, display\n",
    "\n",
    "from torchsummary import summary"
   ]
  },
  {
   "cell_type": "code",
   "execution_count": 2,
   "metadata": {},
   "outputs": [],
   "source": [
    "class UNetConvBlock(nn.Module):\n",
    "    def __init__(self, in_size, out_size, kernel_size=3, padding=1, stride=2):\n",
    "        super(UNetConvBlock, self).__init__()\n",
    "        self.down = nn.Conv2d(in_size, out_size, kernel_size=kernel_size, padding=padding, stride=stride)\n",
    "\n",
    "    def forward(self, x):\n",
    "        return self.down(x)\n",
    "\n",
    "class UNetUpBlock(nn.Module):\n",
    "    def __init__(self, in_size, out_size, kernel_size=2, stride=2):\n",
    "        super(UNetUpBlock, self).__init__()\n",
    "        self.up = nn.ConvTranspose2d(in_size, out_size, kernel_size=kernel_size, stride=stride)\n",
    "\n",
    "    def forward(self, x):\n",
    "        return self.up(x)\n",
    "\n",
    "class UNet(nn.Module):\n",
    "    def __init__(self):\n",
    "        super(UNet, self).__init__()\n",
    "\n",
    "        self.activation = nn.ReLU()\n",
    "\n",
    "        self.down_block3_16 = UNetConvBlock(3, 16)\n",
    "        self.down_block16_32 = UNetConvBlock(16, 32)\n",
    "        self.down_block32_64 = UNetConvBlock(32, 64)\n",
    "\n",
    "        self.up_block64_32 = UNetUpBlock(64, 32)\n",
    "        self.up_block32_16 = UNetUpBlock(32, 16)\n",
    "        self.up_block16_1 = UNetUpBlock(16, 3)\n",
    "\n",
    "    def forward(self, x):\n",
    "        x = self.activation(self.down_block3_16(x))\n",
    "        x = self.activation(self.down_block16_32(x))\n",
    "        x = self.activation(self.down_block32_64(x))\n",
    "        \n",
    "        x = self.activation(self.up_block64_32(x))\n",
    "        x = self.activation(self.up_block32_16(x))\n",
    "        x = self.up_block16_1(x)\n",
    "        return x"
   ]
  },
  {
   "cell_type": "code",
   "execution_count": 3,
   "metadata": {},
   "outputs": [
    {
     "name": "stdout",
     "output_type": "stream",
     "text": [
      "----------------------------------------------------------------\n",
      "        Layer (type)               Output Shape         Param #\n",
      "================================================================\n",
      "            Conv2d-1           [-1, 16, 32, 32]             448\n",
      "     UNetConvBlock-2           [-1, 16, 32, 32]               0\n",
      "              ReLU-3           [-1, 16, 32, 32]               0\n",
      "            Conv2d-4           [-1, 32, 16, 16]           4,640\n",
      "     UNetConvBlock-5           [-1, 32, 16, 16]               0\n",
      "              ReLU-6           [-1, 32, 16, 16]               0\n",
      "            Conv2d-7             [-1, 64, 8, 8]          18,496\n",
      "     UNetConvBlock-8             [-1, 64, 8, 8]               0\n",
      "              ReLU-9             [-1, 64, 8, 8]               0\n",
      "  ConvTranspose2d-10           [-1, 32, 16, 16]           8,224\n",
      "      UNetUpBlock-11           [-1, 32, 16, 16]               0\n",
      "             ReLU-12           [-1, 32, 16, 16]               0\n",
      "  ConvTranspose2d-13           [-1, 16, 32, 32]           2,064\n",
      "      UNetUpBlock-14           [-1, 16, 32, 32]               0\n",
      "             ReLU-15           [-1, 16, 32, 32]               0\n",
      "  ConvTranspose2d-16            [-1, 3, 64, 64]             195\n",
      "      UNetUpBlock-17            [-1, 3, 64, 64]               0\n",
      "================================================================\n",
      "Total params: 34,067\n",
      "Trainable params: 34,067\n",
      "Non-trainable params: 0\n",
      "----------------------------------------------------------------\n",
      "Input size (MB): 0.05\n",
      "Forward/backward pass size (MB): 1.41\n",
      "Params size (MB): 0.13\n",
      "Estimated Total Size (MB): 1.58\n",
      "----------------------------------------------------------------\n"
     ]
    }
   ],
   "source": [
    "model = UNet()\n",
    "summary(model, input_size=(3, 64, 64))\n",
    "\n",
    "optimizer = torch.optim.Adam(model.parameters(), lr=1e-3)"
   ]
  },
  {
   "cell_type": "code",
   "execution_count": 4,
   "metadata": {},
   "outputs": [
    {
     "data": {
      "text/plain": [
       "(2, 1)"
      ]
     },
     "execution_count": 4,
     "metadata": {},
     "output_type": "execute_result"
    }
   ],
   "source": [
    "dataset = datasets.ImageFolder(root='./data', transform=transforms.Compose([\n",
    "    transforms.Resize((64, 64)),\n",
    "    transforms.ToTensor(), \n",
    "    # transforms.Normalize([0.485, 0.456, 0.406], [0.229, 0.224, 0.225])\n",
    "\n",
    "]))\n",
    "dataloader = torch.utils.data.DataLoader(dataset, batch_size=2, shuffle=False)\n",
    "len(dataset.imgs), len(dataloader)"
   ]
  },
  {
   "cell_type": "code",
   "execution_count": 5,
   "metadata": {},
   "outputs": [
    {
     "data": {
      "image/png": "[encoded data removed]",
      "text/plain": [
       "<IPython.core.display.Image object>"
      ]
     },
     "execution_count": 5,
     "metadata": {
      "image/png": {
       "width": 500
      }
     },
     "output_type": "execute_result"
    }
   ],
   "source": [
    "fixed_x, _ = next(iter(dataloader))\n",
    "save_image(fixed_x, 'real_image.png')\n",
    "\n",
    "Image('real_image.png', width=500)"
   ]
  },
  {
   "cell_type": "code",
   "execution_count": 8,
   "metadata": {},
   "outputs": [],
   "source": [
    "%%time\n",
    "\n",
    "epochs = 5000\n",
    "for epoch in range(epochs):\n",
    "    for idx, (image, _) in enumerate(dataloader):\n",
    "        x = image[0, :].unsqueeze(0)\n",
    "        y = image[1, :].unsqueeze(0)\n",
    "        \n",
    "        y_hat = model(x)\n",
    "        \n",
    "        loss = F.mse_loss(y_hat, y)\n",
    "        \n",
    "        optimizer.zero_grad()\n",
    "        loss.backward()\n",
    "        optimizer.step()\n",
    "\n",
    "        to_print = \"Epoch[{}/{}] Loss: {:.3f}\".format(epoch+1, epochs, loss.item())\n",
    "        print(to_print)"
   ]
  },
  {
   "cell_type": "code",
   "execution_count": 7,
   "metadata": {},
   "outputs": [
    {
     "data": {
      "image/png": "[encoded data removed]",
      "text/plain": [
       "<IPython.core.display.Image object>"
      ]
     },
     "metadata": {
      "image/png": {
       "unconfined": true,
       "width": 300
      }
     },
     "output_type": "display_data"
    }
   ],
   "source": [
    "y_hat = model(x)\n",
    "\n",
    "save_image(y_hat.cpu(), 'sample_image.png')\n",
    "display(Image('sample_image.png', width=300, unconfined=True))"
   ]
  },
  {
   "cell_type": "code",
   "execution_count": null,
   "metadata": {},
   "outputs": [],
   "source": []
  }
 ],
 "metadata": {
  "kernelspec": {
   "display_name": "Python 2",
   "language": "python",
   "name": "python2"
  },
  "language_info": {
   "codemirror_mode": {
    "name": "ipython",
    "version": 2
   },
   "file_extension": ".py",
   "mimetype": "text/x-python",
   "name": "python",
   "nbconvert_exporter": "python",
   "pygments_lexer": "ipython2",
   "version": "2.7.15"
  }
 },
 "nbformat": 4,
 "nbformat_minor": 2
}
